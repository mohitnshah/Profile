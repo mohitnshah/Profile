{
 "cells": [
  {
   "cell_type": "markdown",
   "id": "81ff986a",
   "metadata": {},
   "source": [
    "# Detecting fake news, and limiting spread of misinformation using Naive Bayes"
   ]
  },
  {
   "cell_type": "markdown",
   "id": "b8139b97",
   "metadata": {},
   "source": [
    "This notebook aims to identify fake news from amidst a pool of news articles. The data is divided into two samples, real and fake. Thus, both sources indicating what are the pre-classified values in the news headlines/articles.\n",
    "\n",
    "Source: https://www.uvic.ca/ecs/ece/isot/assets/docs/ISOT_Fake_News_Dataset_ReadMe.pdf?utm_medium=redirect&utm_source=/engineering/ece/isot/assets/docs/ISOT_Fake_News_Dataset_ReadMe.pdf&utm_campaign=redirect-usage\n",
    "\n",
    "More about the source: The data has been gathered from real-world sources, specifically from reuters.com for real news articles. Fake news articles have been gathered from non-recognizable third party sources, which are largely unreliable. The dataset has been fact checked for fake/real by a US based organziation called Politifact as well as Wikipedia. Topics covered in these are mainly world politics and world news\n",
    "\n",
    "Citations: \n",
    "1. Ahmed H, Traore I, Saad S. “Detecting opinion spams and fake news using text \n",
    "classification”, Journal of Security and Privacy, Volume 1, Issue 1, Wiley, \n",
    "January/February 2018.\n",
    "\n",
    "2. Ahmed H, Traore I, Saad S. (2017) “Detection of Online Fake News Using N-Gram \n",
    "Analysis and Machine Learning Techniques. In: Traore I., Woungang I., Awad A. (eds) \n",
    "Intelligent, Secure, and Dependable Systems in Distributed and Cloud Environments. \n",
    "ISDDC 2017. Lecture Notes in Computer Science, vol 10618. Springer, Cham (pp. 127-\n",
    "138)\n"
   ]
  },
  {
   "cell_type": "markdown",
   "id": "db59ccfd",
   "metadata": {},
   "source": [
    "## 1.1 Load libraries"
   ]
  },
  {
   "cell_type": "code",
   "execution_count": 89,
   "id": "daabe11f",
   "metadata": {},
   "outputs": [
    {
     "name": "stderr",
     "output_type": "stream",
     "text": [
      "[nltk_data] Downloading package punkt to\n",
      "[nltk_data]     C:\\Users\\mohit\\AppData\\Roaming\\nltk_data...\n",
      "[nltk_data]   Package punkt is already up-to-date!\n"
     ]
    }
   ],
   "source": [
    "%matplotlib inline\n",
    "import matplotlib.pyplot as plt\n",
    "import csv\n",
    "import nltk\n",
    "from textblob import TextBlob\n",
    "import pandas as pd\n",
    "import sklearn\n",
    "import _pickle as cPickle\n",
    "import numpy as np\n",
    "from sklearn.feature_extraction.text import CountVectorizer, TfidfTransformer\n",
    "from sklearn.naive_bayes import MultinomialNB\n",
    "from sklearn.svm import SVC, LinearSVC\n",
    "from sklearn.metrics import classification_report, f1_score, accuracy_score, confusion_matrix\n",
    "from sklearn.pipeline import Pipeline\n",
    "from sklearn.model_selection import GridSearchCV\n",
    "from sklearn.model_selection import StratifiedKFold, cross_val_score, train_test_split \n",
    "from sklearn.tree import DecisionTreeClassifier \n",
    "from sklearn.model_selection import learning_curve\n",
    "nltk.download('punkt')\n",
    "import seaborn as sns"
   ]
  },
  {
   "cell_type": "markdown",
   "id": "98d8d1ed",
   "metadata": {},
   "source": [
    "## 1.2 Load data, investigate information within the dataset"
   ]
  },
  {
   "cell_type": "code",
   "execution_count": 90,
   "id": "6f91621e",
   "metadata": {},
   "outputs": [],
   "source": [
    "#read the data\n",
    "fake = pd.read_csv(\"Fake.csv\")\n",
    "real = pd.read_csv(\"True.csv\")"
   ]
  },
  {
   "cell_type": "code",
   "execution_count": 91,
   "id": "35854495",
   "metadata": {},
   "outputs": [
    {
     "data": {
      "text/html": [
       "<div>\n",
       "<style scoped>\n",
       "    .dataframe tbody tr th:only-of-type {\n",
       "        vertical-align: middle;\n",
       "    }\n",
       "\n",
       "    .dataframe tbody tr th {\n",
       "        vertical-align: top;\n",
       "    }\n",
       "\n",
       "    .dataframe thead th {\n",
       "        text-align: right;\n",
       "    }\n",
       "</style>\n",
       "<table border=\"1\" class=\"dataframe\">\n",
       "  <thead>\n",
       "    <tr style=\"text-align: right;\">\n",
       "      <th></th>\n",
       "      <th>title</th>\n",
       "      <th>text</th>\n",
       "      <th>subject</th>\n",
       "      <th>date</th>\n",
       "    </tr>\n",
       "  </thead>\n",
       "  <tbody>\n",
       "    <tr>\n",
       "      <th>count</th>\n",
       "      <td>23481</td>\n",
       "      <td>23481</td>\n",
       "      <td>23481</td>\n",
       "      <td>23481</td>\n",
       "    </tr>\n",
       "    <tr>\n",
       "      <th>unique</th>\n",
       "      <td>17903</td>\n",
       "      <td>17455</td>\n",
       "      <td>6</td>\n",
       "      <td>1681</td>\n",
       "    </tr>\n",
       "    <tr>\n",
       "      <th>top</th>\n",
       "      <td>MEDIA IGNORES Time That Bill Clinton FIRED His...</td>\n",
       "      <td></td>\n",
       "      <td>News</td>\n",
       "      <td>May 10, 2017</td>\n",
       "    </tr>\n",
       "    <tr>\n",
       "      <th>freq</th>\n",
       "      <td>6</td>\n",
       "      <td>626</td>\n",
       "      <td>9050</td>\n",
       "      <td>46</td>\n",
       "    </tr>\n",
       "  </tbody>\n",
       "</table>\n",
       "</div>"
      ],
      "text/plain": [
       "                                                    title   text subject  \\\n",
       "count                                               23481  23481   23481   \n",
       "unique                                              17903  17455       6   \n",
       "top     MEDIA IGNORES Time That Bill Clinton FIRED His...           News   \n",
       "freq                                                    6    626    9050   \n",
       "\n",
       "                date  \n",
       "count          23481  \n",
       "unique          1681  \n",
       "top     May 10, 2017  \n",
       "freq              46  "
      ]
     },
     "execution_count": 91,
     "metadata": {},
     "output_type": "execute_result"
    }
   ],
   "source": [
    "#brief data description\n",
    "fake.describe()"
   ]
  },
  {
   "cell_type": "code",
   "execution_count": 92,
   "id": "f32ec17d",
   "metadata": {},
   "outputs": [
    {
     "data": {
      "text/html": [
       "<div>\n",
       "<style scoped>\n",
       "    .dataframe tbody tr th:only-of-type {\n",
       "        vertical-align: middle;\n",
       "    }\n",
       "\n",
       "    .dataframe tbody tr th {\n",
       "        vertical-align: top;\n",
       "    }\n",
       "\n",
       "    .dataframe thead th {\n",
       "        text-align: right;\n",
       "    }\n",
       "</style>\n",
       "<table border=\"1\" class=\"dataframe\">\n",
       "  <thead>\n",
       "    <tr style=\"text-align: right;\">\n",
       "      <th></th>\n",
       "      <th>title</th>\n",
       "      <th>text</th>\n",
       "      <th>subject</th>\n",
       "      <th>date</th>\n",
       "    </tr>\n",
       "  </thead>\n",
       "  <tbody>\n",
       "    <tr>\n",
       "      <th>count</th>\n",
       "      <td>21417</td>\n",
       "      <td>21417</td>\n",
       "      <td>21417</td>\n",
       "      <td>21417</td>\n",
       "    </tr>\n",
       "    <tr>\n",
       "      <th>unique</th>\n",
       "      <td>20826</td>\n",
       "      <td>21192</td>\n",
       "      <td>2</td>\n",
       "      <td>716</td>\n",
       "    </tr>\n",
       "    <tr>\n",
       "      <th>top</th>\n",
       "      <td>Factbox: Trump fills top jobs for his administ...</td>\n",
       "      <td>(Reuters) - Highlights for U.S. President Dona...</td>\n",
       "      <td>politicsNews</td>\n",
       "      <td>December 20, 2017</td>\n",
       "    </tr>\n",
       "    <tr>\n",
       "      <th>freq</th>\n",
       "      <td>14</td>\n",
       "      <td>8</td>\n",
       "      <td>11272</td>\n",
       "      <td>182</td>\n",
       "    </tr>\n",
       "  </tbody>\n",
       "</table>\n",
       "</div>"
      ],
      "text/plain": [
       "                                                    title  \\\n",
       "count                                               21417   \n",
       "unique                                              20826   \n",
       "top     Factbox: Trump fills top jobs for his administ...   \n",
       "freq                                                   14   \n",
       "\n",
       "                                                     text       subject  \\\n",
       "count                                               21417         21417   \n",
       "unique                                              21192             2   \n",
       "top     (Reuters) - Highlights for U.S. President Dona...  politicsNews   \n",
       "freq                                                    8         11272   \n",
       "\n",
       "                      date  \n",
       "count                21417  \n",
       "unique                 716  \n",
       "top     December 20, 2017   \n",
       "freq                   182  "
      ]
     },
     "execution_count": 92,
     "metadata": {},
     "output_type": "execute_result"
    }
   ],
   "source": [
    "#brief data description\n",
    "real.describe()"
   ]
  },
  {
   "cell_type": "markdown",
   "id": "52c950e5",
   "metadata": {},
   "source": [
    "Above we notice that there are 23,481entries in the fake dataset, interestingly it has repeats, which is why unique counts are lesser. Another interesting fact is that title and text have different unique counts."
   ]
  },
  {
   "cell_type": "code",
   "execution_count": 93,
   "id": "61d583e4",
   "metadata": {},
   "outputs": [],
   "source": [
    "#Add a status column for real or fake news\n",
    "fake['status'] = \"fake\"\n",
    "real['status'] = \"real\"\n",
    "\n",
    "#Add length counters for title and news article\n",
    "fake['title_length'] = fake['title'].str.len()\n",
    "real['title_length'] = real['title'].str.len()\n",
    "\n",
    "fake['text_length'] = fake['text'].str.len()\n",
    "real['text_length'] = real['text'].str.len()"
   ]
  },
  {
   "cell_type": "code",
   "execution_count": 94,
   "id": "a30f2adc",
   "metadata": {},
   "outputs": [
    {
     "data": {
      "text/html": [
       "<div>\n",
       "<style scoped>\n",
       "    .dataframe tbody tr th:only-of-type {\n",
       "        vertical-align: middle;\n",
       "    }\n",
       "\n",
       "    .dataframe tbody tr th {\n",
       "        vertical-align: top;\n",
       "    }\n",
       "\n",
       "    .dataframe thead th {\n",
       "        text-align: right;\n",
       "    }\n",
       "</style>\n",
       "<table border=\"1\" class=\"dataframe\">\n",
       "  <thead>\n",
       "    <tr style=\"text-align: right;\">\n",
       "      <th></th>\n",
       "      <th>title</th>\n",
       "      <th>text</th>\n",
       "      <th>subject</th>\n",
       "      <th>date</th>\n",
       "      <th>status</th>\n",
       "      <th>title_length</th>\n",
       "      <th>text_length</th>\n",
       "    </tr>\n",
       "  </thead>\n",
       "  <tbody>\n",
       "    <tr>\n",
       "      <th>0</th>\n",
       "      <td>RUBIO Sides With Democrats On Giving A Whoppin...</td>\n",
       "      <td>Democrats want to spend a whopping $2 billion ...</td>\n",
       "      <td>politics</td>\n",
       "      <td>May 16, 2016</td>\n",
       "      <td>fake</td>\n",
       "      <td>84</td>\n",
       "      <td>1611</td>\n",
       "    </tr>\n",
       "    <tr>\n",
       "      <th>1</th>\n",
       "      <td>Ted Cruz Says Endorsing Trump Is A ‘Grave Mis...</td>\n",
       "      <td>Republican presidential candidate and Texas Se...</td>\n",
       "      <td>News</td>\n",
       "      <td>March 1, 2016</td>\n",
       "      <td>fake</td>\n",
       "      <td>85</td>\n",
       "      <td>3039</td>\n",
       "    </tr>\n",
       "    <tr>\n",
       "      <th>2</th>\n",
       "      <td>‘Responsible Gun Owner’ Road Rages, Threatens...</td>\n",
       "      <td>The National Rifle Association tells us that a...</td>\n",
       "      <td>News</td>\n",
       "      <td>February 2, 2016</td>\n",
       "      <td>fake</td>\n",
       "      <td>76</td>\n",
       "      <td>2132</td>\n",
       "    </tr>\n",
       "    <tr>\n",
       "      <th>3</th>\n",
       "      <td>TEACHER’S UNION PROTEST Gets Ugly As Protester...</td>\n",
       "      <td>In case you don t live in the Midwest, you mig...</td>\n",
       "      <td>Government News</td>\n",
       "      <td>Jan 20, 2016</td>\n",
       "      <td>fake</td>\n",
       "      <td>76</td>\n",
       "      <td>2948</td>\n",
       "    </tr>\n",
       "    <tr>\n",
       "      <th>4</th>\n",
       "      <td>Etihad advises checks with U.S. missions after...</td>\n",
       "      <td>DUBAI (Reuters) - Etihad Airways is advising s...</td>\n",
       "      <td>politicsNews</td>\n",
       "      <td>March 7, 2017</td>\n",
       "      <td>real</td>\n",
       "      <td>62</td>\n",
       "      <td>1481</td>\n",
       "    </tr>\n",
       "  </tbody>\n",
       "</table>\n",
       "</div>"
      ],
      "text/plain": [
       "                                               title  \\\n",
       "0  RUBIO Sides With Democrats On Giving A Whoppin...   \n",
       "1   Ted Cruz Says Endorsing Trump Is A ‘Grave Mis...   \n",
       "2   ‘Responsible Gun Owner’ Road Rages, Threatens...   \n",
       "3  TEACHER’S UNION PROTEST Gets Ugly As Protester...   \n",
       "4  Etihad advises checks with U.S. missions after...   \n",
       "\n",
       "                                                text          subject  \\\n",
       "0  Democrats want to spend a whopping $2 billion ...         politics   \n",
       "1  Republican presidential candidate and Texas Se...             News   \n",
       "2  The National Rifle Association tells us that a...             News   \n",
       "3  In case you don t live in the Midwest, you mig...  Government News   \n",
       "4  DUBAI (Reuters) - Etihad Airways is advising s...     politicsNews   \n",
       "\n",
       "               date status  title_length  text_length  \n",
       "0      May 16, 2016   fake            84         1611  \n",
       "1     March 1, 2016   fake            85         3039  \n",
       "2  February 2, 2016   fake            76         2132  \n",
       "3      Jan 20, 2016   fake            76         2948  \n",
       "4    March 7, 2017    real            62         1481  "
      ]
     },
     "execution_count": 94,
     "metadata": {},
     "output_type": "execute_result"
    }
   ],
   "source": [
    "#Concatenate data into a single database before data processing for training\n",
    "news = pd.concat([real,fake])\n",
    "\n",
    "#Shuffle the rows in the data randomly\n",
    "news = news.sample(frac=1, random_state=0)\n",
    "news = news.reset_index(drop=True)\n",
    "news.head()"
   ]
  },
  {
   "cell_type": "code",
   "execution_count": 95,
   "id": "d700305f",
   "metadata": {},
   "outputs": [
    {
     "data": {
      "text/plain": [
       "title           0\n",
       "text            0\n",
       "subject         0\n",
       "date            0\n",
       "status          0\n",
       "title_length    0\n",
       "text_length     0\n",
       "dtype: int64"
      ]
     },
     "execution_count": 95,
     "metadata": {},
     "output_type": "execute_result"
    }
   ],
   "source": [
    "#Check if there are any NA values which need replacement\n",
    "news.isna().sum()"
   ]
  },
  {
   "cell_type": "code",
   "execution_count": 96,
   "id": "dc3f59a9",
   "metadata": {},
   "outputs": [
    {
     "data": {
      "text/plain": [
       "<seaborn.axisgrid.FacetGrid at 0x28765fdb580>"
      ]
     },
     "execution_count": 96,
     "metadata": {},
     "output_type": "execute_result"
    },
    {
     "data": {
      "image/png": "[encoded data removed]",
      "text/plain": [
       "<Figure size 1080x360 with 2 Axes>"
      ]
     },
     "metadata": {},
     "output_type": "display_data"
    }
   ],
   "source": [
    "#Plot histogram to see how length of news/title matters w.r.t fake or real\n",
    "sns.set(style=\"darkgrid\")\n",
    "hist_plot = sns.FacetGrid(data=news, col='status', col_wrap=2, height=5, aspect=1.5)\n",
    "hist_plot.map(sns.histplot, 'title_length', color = 'red', bins = 50)"
   ]
  },
  {
   "cell_type": "markdown",
   "id": "6e8c3e11",
   "metadata": {},
   "source": [
    "What is interesting from the above, is that real news seems to have less verbose titles. Likely because fake news would require more creative fabircation to make it seem fake. However this is just speculation, but stil interesting"
   ]
  },
  {
   "cell_type": "code",
   "execution_count": 223,
   "id": "3b012c0c",
   "metadata": {},
   "outputs": [
    {
     "data": {
      "text/plain": [
       "<seaborn.axisgrid.FacetGrid at 0x287e83c5b80>"
      ]
     },
     "execution_count": 223,
     "metadata": {},
     "output_type": "execute_result"
    },
    {
     "data": {
      "image/png": "[encoded data removed]",
      "text/plain": [
       "<Figure size 1080x360 with 2 Axes>"
      ]
     },
     "metadata": {},
     "output_type": "display_data"
    }
   ],
   "source": [
    "#Plot histogram to see how length of news matters w.r.t fake or real\n",
    "hist_plot = sns.FacetGrid(data=news, col='status', col_wrap=2, height=5, aspect=1.5)\n",
    "hist_plot.set(xlim=(0, 10000))\n",
    "hist_plot.map(sns.histplot, 'text_length', color = 'blue', bins = 1000)"
   ]
  },
  {
   "cell_type": "markdown",
   "id": "0a173e26",
   "metadata": {},
   "source": [
    "We see something very similar in the above charts as well, depicting the length of the news. Fake news overall seems to around 2000 words, however that does not seem to be the obvious case in real news, which is more often shorter. Again, likely could be due to the same explanation as given above"
   ]
  },
  {
   "cell_type": "code",
   "execution_count": 98,
   "id": "1f285ec9",
   "metadata": {},
   "outputs": [
    {
     "name": "stderr",
     "output_type": "stream",
     "text": [
      "C:\\Users\\mohit\\AppData\\Local\\Temp/ipykernel_6416/4025774297.py:4: UserWarning: FixedFormatter should only be used together with FixedLocator\n",
      "  subplot.set_xticklabels(subplot.get_xticklabels(), rotation=90)\n",
      "C:\\Users\\mohit\\AppData\\Local\\Temp/ipykernel_6416/4025774297.py:9: UserWarning: Matplotlib is currently using module://matplotlib_inline.backend_inline, which is a non-GUI backend, so cannot show the figure.\n",
      "  fig.show()\n"
     ]
    },
    {
     "data": {
      "image/png": "[encoded data removed]",
      "text/plain": [
       "<Figure size 432x288 with 2 Axes>"
      ]
     },
     "metadata": {},
     "output_type": "display_data"
    }
   ],
   "source": [
    "#Let's inspect the type of news being reported in each of the real and fake news datasets\n",
    "fig, ax = plt.subplots(1,2)\n",
    "for subplot in ax:\n",
    "    subplot.set_xticklabels(subplot.get_xticklabels(), rotation=90)\n",
    "    subplot.set_title(\"Type of news reported for in the data\")\n",
    "    \n",
    "sns.countplot(data = real, x = 'subject', ax = ax[0])\n",
    "sns.countplot(data = fake, x = 'subject', ax = ax[1])\n",
    "fig.show()"
   ]
  },
  {
   "cell_type": "markdown",
   "id": "111743ea",
   "metadata": {},
   "source": [
    "What you see above on the left is for real news, and right is fake news. It might seem fake news has more categories, but one key detail here is that those subjects are as good as \"worldnews\" combined if you add each of them up"
   ]
  },
  {
   "cell_type": "markdown",
   "id": "9d0b6b41",
   "metadata": {},
   "source": [
    "## 1.3 Process data for Naive Bayes"
   ]
  },
  {
   "cell_type": "code",
   "execution_count": 99,
   "id": "fbff770b",
   "metadata": {},
   "outputs": [],
   "source": [
    "#Import packages needed to perform tokenization, lemmatization and data cleaning (stop words removal)\n",
    "import re\n",
    "import nltk\n",
    "from nltk.tokenize import word_tokenize\n",
    "from nltk.corpus import stopwords\n",
    "from nltk.stem import WordNetLemmatizer\n",
    "from nltk.stem.snowball import SnowballStemmer\n",
    "from nltk.stem.porter import *\n",
    "\n",
    "p_stemming = PorterStemmer()\n",
    "stop_words = set(stopwords.words(\"english\"))\n",
    "\n",
    "# set the random seed, for reproducibility\n",
    "np.random.seed(523)"
   ]
  },
  {
   "cell_type": "code",
   "execution_count": 100,
   "id": "1afd8087",
   "metadata": {},
   "outputs": [
    {
     "data": {
      "text/html": [
       "<div>\n",
       "<style scoped>\n",
       "    .dataframe tbody tr th:only-of-type {\n",
       "        vertical-align: middle;\n",
       "    }\n",
       "\n",
       "    .dataframe tbody tr th {\n",
       "        vertical-align: top;\n",
       "    }\n",
       "\n",
       "    .dataframe thead th {\n",
       "        text-align: right;\n",
       "    }\n",
       "</style>\n",
       "<table border=\"1\" class=\"dataframe\">\n",
       "  <thead>\n",
       "    <tr style=\"text-align: right;\">\n",
       "      <th></th>\n",
       "      <th>title</th>\n",
       "      <th>text</th>\n",
       "      <th>subject</th>\n",
       "      <th>date</th>\n",
       "      <th>status</th>\n",
       "      <th>title_length</th>\n",
       "      <th>text_length</th>\n",
       "    </tr>\n",
       "  </thead>\n",
       "  <tbody>\n",
       "    <tr>\n",
       "      <th>0</th>\n",
       "      <td>RUBIO Sides With Democrats On Giving A Whoppin...</td>\n",
       "      <td>Democrats want to spend a whopping $2 billion ...</td>\n",
       "      <td>politics</td>\n",
       "      <td>May 16, 2016</td>\n",
       "      <td>fake</td>\n",
       "      <td>84</td>\n",
       "      <td>1611</td>\n",
       "    </tr>\n",
       "    <tr>\n",
       "      <th>1</th>\n",
       "      <td>Ted Cruz Says Endorsing Trump Is A ‘Grave Mis...</td>\n",
       "      <td>Republican presidential candidate and Texas Se...</td>\n",
       "      <td>News</td>\n",
       "      <td>March 1, 2016</td>\n",
       "      <td>fake</td>\n",
       "      <td>85</td>\n",
       "      <td>3039</td>\n",
       "    </tr>\n",
       "    <tr>\n",
       "      <th>2</th>\n",
       "      <td>‘Responsible Gun Owner’ Road Rages, Threatens...</td>\n",
       "      <td>The National Rifle Association tells us that a...</td>\n",
       "      <td>News</td>\n",
       "      <td>February 2, 2016</td>\n",
       "      <td>fake</td>\n",
       "      <td>76</td>\n",
       "      <td>2132</td>\n",
       "    </tr>\n",
       "    <tr>\n",
       "      <th>3</th>\n",
       "      <td>TEACHER’S UNION PROTEST Gets Ugly As Protester...</td>\n",
       "      <td>In case you don t live in the Midwest, you mig...</td>\n",
       "      <td>Government News</td>\n",
       "      <td>Jan 20, 2016</td>\n",
       "      <td>fake</td>\n",
       "      <td>76</td>\n",
       "      <td>2948</td>\n",
       "    </tr>\n",
       "    <tr>\n",
       "      <th>4</th>\n",
       "      <td>Etihad advises checks with U.S. missions after...</td>\n",
       "      <td>DUBAI (Reuters) - Etihad Airways is advising s...</td>\n",
       "      <td>politicsNews</td>\n",
       "      <td>March 7, 2017</td>\n",
       "      <td>real</td>\n",
       "      <td>62</td>\n",
       "      <td>1481</td>\n",
       "    </tr>\n",
       "  </tbody>\n",
       "</table>\n",
       "</div>"
      ],
      "text/plain": [
       "                                               title  \\\n",
       "0  RUBIO Sides With Democrats On Giving A Whoppin...   \n",
       "1   Ted Cruz Says Endorsing Trump Is A ‘Grave Mis...   \n",
       "2   ‘Responsible Gun Owner’ Road Rages, Threatens...   \n",
       "3  TEACHER’S UNION PROTEST Gets Ugly As Protester...   \n",
       "4  Etihad advises checks with U.S. missions after...   \n",
       "\n",
       "                                                text          subject  \\\n",
       "0  Democrats want to spend a whopping $2 billion ...         politics   \n",
       "1  Republican presidential candidate and Texas Se...             News   \n",
       "2  The National Rifle Association tells us that a...             News   \n",
       "3  In case you don t live in the Midwest, you mig...  Government News   \n",
       "4  DUBAI (Reuters) - Etihad Airways is advising s...     politicsNews   \n",
       "\n",
       "               date status  title_length  text_length  \n",
       "0      May 16, 2016   fake            84         1611  \n",
       "1     March 1, 2016   fake            85         3039  \n",
       "2  February 2, 2016   fake            76         2132  \n",
       "3      Jan 20, 2016   fake            76         2948  \n",
       "4    March 7, 2017    real            62         1481  "
      ]
     },
     "execution_count": 100,
     "metadata": {},
     "output_type": "execute_result"
    }
   ],
   "source": [
    "#View the data\n",
    "news.head()"
   ]
  },
  {
   "cell_type": "code",
   "execution_count": 101,
   "id": "a1a8246d",
   "metadata": {
    "scrolled": true
   },
   "outputs": [
    {
     "name": "stdout",
     "output_type": "stream",
     "text": [
      "Wall time: 3.1 s\n",
      "Wall time: 1min 25s\n"
     ]
    }
   ],
   "source": [
    "#Clean the data from the source, by removing capitalization, removing punctuations, and cutting down stop words\n",
    "def clean_news(x):\n",
    "    \n",
    "    x = re.sub('[^a-z\\s]', '', x.lower())                  \n",
    "    x = [w for w in x.split() if w not in set(stop_words)] \n",
    "        \n",
    "    return ' '.join(x)# remove stopwords\n",
    "\n",
    "%time news['clean_title'] = news['title'].apply(clean_news)\n",
    "%time news['clean_text'] = news['text'].apply(clean_news)"
   ]
  },
  {
   "cell_type": "code",
   "execution_count": 102,
   "id": "a97d2515",
   "metadata": {},
   "outputs": [],
   "source": [
    "#Converting the news to tokens, transforming to stems and performing lemmatization\n",
    "def lemmas(news):\n",
    "    \n",
    "    #Transforming each word in the cell contents to a single token\n",
    "    tokens = word_tokenize(news)\n",
    "    \n",
    "    #Identifying stemsfrom tokens \n",
    "    stems = []\n",
    "    for word in tokens:\n",
    "        stems.append(p_stemming.stem(word))\n",
    "\n",
    "    #Lemmatization for stemmed words\n",
    "    wordnet_lemmatizer = WordNetLemmatizer()\n",
    "    lemmas = []\n",
    "    for word in stems:\n",
    "        lemmas.append(wordnet_lemmatizer.lemmatize(word))\n",
    "        \n",
    "    return lemmas"
   ]
  },
  {
   "cell_type": "code",
   "execution_count": 104,
   "id": "d330a710",
   "metadata": {},
   "outputs": [
    {
     "name": "stdout",
     "output_type": "stream",
     "text": [
      "Wall time: 43.2 s\n",
      "Wall time: 14min 10s\n"
     ]
    }
   ],
   "source": [
    "#Converting the cleaned text to lemmatized forms, to see how the data changes\n",
    "%time news['lemm_title'] = news['clean_title'].apply(lambda x: lemmas(x))\n",
    "%time news['lemm_text'] = news['clean_text'].apply(lambda x: lemmas(x))"
   ]
  },
  {
   "cell_type": "code",
   "execution_count": 105,
   "id": "49f02fdc",
   "metadata": {
    "scrolled": false
   },
   "outputs": [
    {
     "data": {
      "text/html": [
       "<div>\n",
       "<style scoped>\n",
       "    .dataframe tbody tr th:only-of-type {\n",
       "        vertical-align: middle;\n",
       "    }\n",
       "\n",
       "    .dataframe tbody tr th {\n",
       "        vertical-align: top;\n",
       "    }\n",
       "\n",
       "    .dataframe thead th {\n",
       "        text-align: right;\n",
       "    }\n",
       "</style>\n",
       "<table border=\"1\" class=\"dataframe\">\n",
       "  <thead>\n",
       "    <tr style=\"text-align: right;\">\n",
       "      <th></th>\n",
       "      <th>title</th>\n",
       "      <th>text</th>\n",
       "      <th>subject</th>\n",
       "      <th>date</th>\n",
       "      <th>status</th>\n",
       "      <th>title_length</th>\n",
       "      <th>text_length</th>\n",
       "      <th>clean_title</th>\n",
       "      <th>clean_text</th>\n",
       "      <th>lemm_title</th>\n",
       "      <th>lemm_text</th>\n",
       "    </tr>\n",
       "  </thead>\n",
       "  <tbody>\n",
       "    <tr>\n",
       "      <th>0</th>\n",
       "      <td>RUBIO Sides With Democrats On Giving A Whoppin...</td>\n",
       "      <td>Democrats want to spend a whopping $2 billion ...</td>\n",
       "      <td>politics</td>\n",
       "      <td>May 16, 2016</td>\n",
       "      <td>fake</td>\n",
       "      <td>84</td>\n",
       "      <td>1611</td>\n",
       "      <td>rubio sides democrats giving whopping billion ...</td>\n",
       "      <td>democrats want spend whopping billion zika vir...</td>\n",
       "      <td>[rubio, side, democrat, give, whop, billion, z...</td>\n",
       "      <td>[democrat, want, spend, whop, billion, zika, v...</td>\n",
       "    </tr>\n",
       "    <tr>\n",
       "      <th>1</th>\n",
       "      <td>Ted Cruz Says Endorsing Trump Is A ‘Grave Mis...</td>\n",
       "      <td>Republican presidential candidate and Texas Se...</td>\n",
       "      <td>News</td>\n",
       "      <td>March 1, 2016</td>\n",
       "      <td>fake</td>\n",
       "      <td>85</td>\n",
       "      <td>3039</td>\n",
       "      <td>ted cruz says endorsing trump grave mistake pr...</td>\n",
       "      <td>republican presidential candidate texas senato...</td>\n",
       "      <td>[ted, cruz, say, endors, trump, grave, mistak,...</td>\n",
       "      <td>[republican, presidenti, candid, texa, senat, ...</td>\n",
       "    </tr>\n",
       "    <tr>\n",
       "      <th>2</th>\n",
       "      <td>‘Responsible Gun Owner’ Road Rages, Threatens...</td>\n",
       "      <td>The National Rifle Association tells us that a...</td>\n",
       "      <td>News</td>\n",
       "      <td>February 2, 2016</td>\n",
       "      <td>fake</td>\n",
       "      <td>76</td>\n",
       "      <td>2132</td>\n",
       "      <td>responsible gun owner road rages threatens sho...</td>\n",
       "      <td>national rifle association tells us need ensur...</td>\n",
       "      <td>[respons, gun, owner, road, rage, threaten, sh...</td>\n",
       "      <td>[nation, rifl, associ, tell, u, need, ensur, s...</td>\n",
       "    </tr>\n",
       "    <tr>\n",
       "      <th>3</th>\n",
       "      <td>TEACHER’S UNION PROTEST Gets Ugly As Protester...</td>\n",
       "      <td>In case you don t live in the Midwest, you mig...</td>\n",
       "      <td>Government News</td>\n",
       "      <td>Jan 20, 2016</td>\n",
       "      <td>fake</td>\n",
       "      <td>76</td>\n",
       "      <td>2948</td>\n",
       "      <td>teachers union protest gets ugly protesters co...</td>\n",
       "      <td>case live midwest might noticed fight continue...</td>\n",
       "      <td>[teacher, union, protest, get, ugli, protest, ...</td>\n",
       "      <td>[case, live, midwest, might, notic, fight, con...</td>\n",
       "    </tr>\n",
       "    <tr>\n",
       "      <th>4</th>\n",
       "      <td>Etihad advises checks with U.S. missions after...</td>\n",
       "      <td>DUBAI (Reuters) - Etihad Airways is advising s...</td>\n",
       "      <td>politicsNews</td>\n",
       "      <td>March 7, 2017</td>\n",
       "      <td>real</td>\n",
       "      <td>62</td>\n",
       "      <td>1481</td>\n",
       "      <td>etihad advises checks us missions new trump order</td>\n",
       "      <td>dubai reuters etihad airways advising passenge...</td>\n",
       "      <td>[etihad, advis, check, u, mission, new, trump,...</td>\n",
       "      <td>[dubai, reuter, etihad, airway, advis, passeng...</td>\n",
       "    </tr>\n",
       "  </tbody>\n",
       "</table>\n",
       "</div>"
      ],
      "text/plain": [
       "                                               title  \\\n",
       "0  RUBIO Sides With Democrats On Giving A Whoppin...   \n",
       "1   Ted Cruz Says Endorsing Trump Is A ‘Grave Mis...   \n",
       "2   ‘Responsible Gun Owner’ Road Rages, Threatens...   \n",
       "3  TEACHER’S UNION PROTEST Gets Ugly As Protester...   \n",
       "4  Etihad advises checks with U.S. missions after...   \n",
       "\n",
       "                                                text          subject  \\\n",
       "0  Democrats want to spend a whopping $2 billion ...         politics   \n",
       "1  Republican presidential candidate and Texas Se...             News   \n",
       "2  The National Rifle Association tells us that a...             News   \n",
       "3  In case you don t live in the Midwest, you mig...  Government News   \n",
       "4  DUBAI (Reuters) - Etihad Airways is advising s...     politicsNews   \n",
       "\n",
       "               date status  title_length  text_length  \\\n",
       "0      May 16, 2016   fake            84         1611   \n",
       "1     March 1, 2016   fake            85         3039   \n",
       "2  February 2, 2016   fake            76         2132   \n",
       "3      Jan 20, 2016   fake            76         2948   \n",
       "4    March 7, 2017    real            62         1481   \n",
       "\n",
       "                                         clean_title  \\\n",
       "0  rubio sides democrats giving whopping billion ...   \n",
       "1  ted cruz says endorsing trump grave mistake pr...   \n",
       "2  responsible gun owner road rages threatens sho...   \n",
       "3  teachers union protest gets ugly protesters co...   \n",
       "4  etihad advises checks us missions new trump order   \n",
       "\n",
       "                                          clean_text  \\\n",
       "0  democrats want spend whopping billion zika vir...   \n",
       "1  republican presidential candidate texas senato...   \n",
       "2  national rifle association tells us need ensur...   \n",
       "3  case live midwest might noticed fight continue...   \n",
       "4  dubai reuters etihad airways advising passenge...   \n",
       "\n",
       "                                          lemm_title  \\\n",
       "0  [rubio, side, democrat, give, whop, billion, z...   \n",
       "1  [ted, cruz, say, endors, trump, grave, mistak,...   \n",
       "2  [respons, gun, owner, road, rage, threaten, sh...   \n",
       "3  [teacher, union, protest, get, ugli, protest, ...   \n",
       "4  [etihad, advis, check, u, mission, new, trump,...   \n",
       "\n",
       "                                           lemm_text  \n",
       "0  [democrat, want, spend, whop, billion, zika, v...  \n",
       "1  [republican, presidenti, candid, texa, senat, ...  \n",
       "2  [nation, rifl, associ, tell, u, need, ensur, s...  \n",
       "3  [case, live, midwest, might, notic, fight, con...  \n",
       "4  [dubai, reuter, etihad, airway, advis, passeng...  "
      ]
     },
     "execution_count": 105,
     "metadata": {},
     "output_type": "execute_result"
    }
   ],
   "source": [
    "news.head()"
   ]
  },
  {
   "cell_type": "code",
   "execution_count": 106,
   "id": "fa506115",
   "metadata": {},
   "outputs": [
    {
     "name": "stdout",
     "output_type": "stream",
     "text": [
      "['respons', 'gun', 'owner', 'road', 'rage', 'threaten', 'shoot', 'motorcyclist', 'video']\n",
      " ‘Responsible Gun Owner’ Road Rages, Threatens To Shoot Motorcyclist (VIDEO)\n"
     ]
    }
   ],
   "source": [
    "#Let's compare how the original title has now changed to the processed title\n",
    "print(news['lemm_title'][2])\n",
    "print(news['title'][2])"
   ]
  },
  {
   "cell_type": "markdown",
   "id": "c996d8c5",
   "metadata": {},
   "source": [
    "We can see clearly, how each word has been split seperately, also you may notice that the first output makes no sense. This is because we removed stopwords, capitalizations and punctuation marks, so that the training process is not interfered by words characters which may not have enough utility in training our model"
   ]
  },
  {
   "cell_type": "markdown",
   "id": "834d50b8",
   "metadata": {},
   "source": [
    "## 1.4 Use tfidf scores to convert each word into machine understandable language, call algorithm functions to use"
   ]
  },
  {
   "cell_type": "code",
   "execution_count": 224,
   "id": "c7899794",
   "metadata": {},
   "outputs": [],
   "source": [
    "#Import required libraries\n",
    "from sklearn.feature_extraction.text import CountVectorizer, TfidfVectorizer\n",
    "from sklearn.pipeline import Pipeline\n",
    "from sklearn.svm import LinearSVC"
   ]
  },
  {
   "cell_type": "markdown",
   "id": "38840b38",
   "metadata": {},
   "source": [
    "### 1.4.1 TF_IDF transformation for title"
   ]
  },
  {
   "cell_type": "code",
   "execution_count": 172,
   "id": "f15ad612",
   "metadata": {},
   "outputs": [
    {
     "name": "stdout",
     "output_type": "stream",
     "text": [
      "Wall time: 1.63 s\n"
     ]
    }
   ],
   "source": [
    "#Transforming the entire bag of words in the news headline to TF_IDF scores\n",
    "tfidf = TfidfVectorizer(lowercase=False, stop_words='english')\n",
    "%time title_tfidf = tfidf.fit_transform(news['clean_title'])"
   ]
  },
  {
   "cell_type": "markdown",
   "id": "c272820d",
   "metadata": {},
   "source": [
    "### 1.4.2 TF_IDF transformation for text"
   ]
  },
  {
   "cell_type": "code",
   "execution_count": 173,
   "id": "2f023d10",
   "metadata": {},
   "outputs": [
    {
     "name": "stdout",
     "output_type": "stream",
     "text": [
      "Wall time: 24.2 s\n"
     ]
    }
   ],
   "source": [
    "#Transforming the entire bag of words in the news text to TF_IDF scores\n",
    "%time text_tfidf = tfidf.fit_transform(news['clean_text'])"
   ]
  },
  {
   "cell_type": "markdown",
   "id": "b842b64a",
   "metadata": {},
   "source": [
    "## 1.5 Train, test, model"
   ]
  },
  {
   "cell_type": "markdown",
   "id": "2050b092",
   "metadata": {},
   "source": [
    "### 1.5.1 Tinker parameters: Use news headline"
   ]
  },
  {
   "cell_type": "code",
   "execution_count": 174,
   "id": "f9e15074",
   "metadata": {},
   "outputs": [],
   "source": [
    "#Import required libraries\n",
    "from sklearn.model_selection import train_test_split\n",
    "from sklearn.metrics import classification_report, confusion_matrix\n",
    "np.random.seed(342)"
   ]
  },
  {
   "cell_type": "code",
   "execution_count": 175,
   "id": "d5acde68",
   "metadata": {},
   "outputs": [],
   "source": [
    "#Assign news text to split for training and testing\n",
    "x_head = title_tfidf\n",
    "y_head = news['status']"
   ]
  },
  {
   "cell_type": "code",
   "execution_count": 176,
   "id": "d2021431",
   "metadata": {},
   "outputs": [],
   "source": [
    "#80% training and 20% testing split\n",
    "x_head_train, x_head_test, y_head_train, y_head_test = train_test_split(x_head, y_head, test_size=0.2, random_state= 777)"
   ]
  },
  {
   "cell_type": "markdown",
   "id": "a8a5dbee",
   "metadata": {},
   "source": [
    "#### 1.5.1.1 Use Naive Bayes on headline"
   ]
  },
  {
   "cell_type": "code",
   "execution_count": 197,
   "id": "211ef686",
   "metadata": {},
   "outputs": [
    {
     "name": "stdout",
     "output_type": "stream",
     "text": [
      "              precision    recall  f1-score   support\n",
      "\n",
      "        fake       0.95      0.93      0.94      4868\n",
      "        real       0.92      0.94      0.93      4112\n",
      "\n",
      "    accuracy                           0.94      8980\n",
      "   macro avg       0.94      0.94      0.94      8980\n",
      "weighted avg       0.94      0.94      0.94      8980\n",
      "\n"
     ]
    }
   ],
   "source": [
    "#Passing the training data prepared from tfidf scores for headline for Naive Bayes\n",
    "model_naive = MultinomialNB().fit(x_head_train, y_head_train)\n",
    "prediction_naive = model_naive.predict(x_head_test)\n",
    "print(classification_report(prediction_naive,y_head_test))"
   ]
  },
  {
   "cell_type": "markdown",
   "id": "3afce96a",
   "metadata": {},
   "source": [
    "Thus we see, we are getting an accuracy of 94% from the model"
   ]
  },
  {
   "cell_type": "code",
   "execution_count": 193,
   "id": "0ad6eb15",
   "metadata": {},
   "outputs": [
    {
     "data": {
      "text/plain": [
       "array([[4528,  230],\n",
       "       [ 340, 3882]], dtype=int64)"
      ]
     },
     "execution_count": 193,
     "metadata": {},
     "output_type": "execute_result"
    }
   ],
   "source": [
    "#Observing the confusion matrix outputs, to see performance\n",
    "confusion_matrix(y_head_test, prediction_naive)"
   ]
  },
  {
   "cell_type": "code",
   "execution_count": 194,
   "id": "b79210c5",
   "metadata": {
    "scrolled": true
   },
   "outputs": [
    {
     "data": {
      "text/plain": [
       "Text(0.5, 0, 'predicted label')"
      ]
     },
     "execution_count": 194,
     "metadata": {},
     "output_type": "execute_result"
    },
    {
     "data": {
      "image/png": "[encoded data removed]",
      "text/plain": [
       "<Figure size 288x288 with 2 Axes>"
      ]
     },
     "metadata": {},
     "output_type": "display_data"
    }
   ],
   "source": [
    "#Visualizing confusion matrix for prediction outputs\n",
    "plt.matshow(confusion_matrix(y_head_test, prediction_naive), cmap=plt.cm.binary, interpolation='nearest')\n",
    "plt.title('Outputs using Naive-bayes on headlines')\n",
    "plt.colorbar()\n",
    "plt.ylabel('expected label')\n",
    "plt.xlabel('predicted label')"
   ]
  },
  {
   "cell_type": "markdown",
   "id": "f9f9944f",
   "metadata": {},
   "source": [
    "#### 1.5.1.2 Use SVC on headline"
   ]
  },
  {
   "cell_type": "code",
   "execution_count": 198,
   "id": "20804314",
   "metadata": {},
   "outputs": [
    {
     "name": "stdout",
     "output_type": "stream",
     "text": [
      "              precision    recall  f1-score   support\n",
      "\n",
      "        fake       0.95      0.96      0.96      4728\n",
      "        real       0.96      0.95      0.95      4252\n",
      "\n",
      "    accuracy                           0.95      8980\n",
      "   macro avg       0.95      0.95      0.95      8980\n",
      "weighted avg       0.95      0.95      0.95      8980\n",
      "\n"
     ]
    }
   ],
   "source": [
    "#Passing the training data prepared from tfidf scores for headline for SVC\n",
    "model_svc = LinearSVC().fit(x_head_train, y_head_train)\n",
    "prediction_svc = model_svc.predict(x_head_test)\n",
    "print(classification_report(prediction_svc,y_head_test))"
   ]
  },
  {
   "cell_type": "markdown",
   "id": "1a4f321e",
   "metadata": {},
   "source": [
    "Thus we see, we are getting an accuracy of 95% from the model"
   ]
  },
  {
   "cell_type": "code",
   "execution_count": 225,
   "id": "e394d0a5",
   "metadata": {},
   "outputs": [
    {
     "data": {
      "text/plain": [
       "array([[4740,   18],\n",
       "       [  23, 4199]], dtype=int64)"
      ]
     },
     "execution_count": 225,
     "metadata": {},
     "output_type": "execute_result"
    }
   ],
   "source": [
    "#Observing the confusion matrix outputs, to see performance\n",
    "confusion_matrix(y_head_test, prediction_svc)"
   ]
  },
  {
   "cell_type": "code",
   "execution_count": 201,
   "id": "ce435c38",
   "metadata": {},
   "outputs": [
    {
     "data": {
      "text/plain": [
       "Text(0.5, 0, 'predicted label')"
      ]
     },
     "execution_count": 201,
     "metadata": {},
     "output_type": "execute_result"
    },
    {
     "data": {
      "image/png": "[encoded data removed]",
      "text/plain": [
       "<Figure size 288x288 with 2 Axes>"
      ]
     },
     "metadata": {},
     "output_type": "display_data"
    }
   ],
   "source": [
    "#Visualizing confusion matrix for prediction outputs\n",
    "plt.matshow(confusion_matrix(y_head_test, prediction_svc), cmap=plt.cm.binary, interpolation='nearest')\n",
    "plt.title('Outputs using SVC on headlines')\n",
    "plt.colorbar()\n",
    "plt.ylabel('expected label')\n",
    "plt.xlabel('predicted label')"
   ]
  },
  {
   "cell_type": "markdown",
   "id": "32b56140",
   "metadata": {},
   "source": [
    "### 1.5.2 Tinker parameters: Use news content\n",
    "\n",
    "Checking if accuracy changes if we replace headline with the actual news story, which is way larger in data size"
   ]
  },
  {
   "cell_type": "code",
   "execution_count": 226,
   "id": "7661894e",
   "metadata": {},
   "outputs": [],
   "source": [
    "#Assign news text to split for training and testing\n",
    "x_cont = text_tfidf\n",
    "y_cont = news['status']"
   ]
  },
  {
   "cell_type": "code",
   "execution_count": 227,
   "id": "f42e8e66",
   "metadata": {},
   "outputs": [],
   "source": [
    "#80% training and 20% testing split\n",
    "x_cont_train, x_cont_test, y_cont_train, y_cont_test = train_test_split(x_cont, y_cont, test_size=0.2, random_state= 777)"
   ]
  },
  {
   "cell_type": "markdown",
   "id": "170ef9fe",
   "metadata": {},
   "source": [
    "#### 1.5.2.1 Use Naive Bayes on news content"
   ]
  },
  {
   "cell_type": "code",
   "execution_count": 228,
   "id": "afac8005",
   "metadata": {},
   "outputs": [
    {
     "name": "stdout",
     "output_type": "stream",
     "text": [
      "              precision    recall  f1-score   support\n",
      "\n",
      "        fake       0.93      0.96      0.95      4590\n",
      "        real       0.96      0.92      0.94      4390\n",
      "\n",
      "    accuracy                           0.94      8980\n",
      "   macro avg       0.95      0.94      0.94      8980\n",
      "weighted avg       0.94      0.94      0.94      8980\n",
      "\n"
     ]
    }
   ],
   "source": [
    "#Passing the training data prepared from tfidf scores for news content for Naive Bayes\n",
    "model_naive_cont = MultinomialNB().fit(x_cont_train, y_cont_train)\n",
    "prediction_naive_cont = model_naive_cont.predict(x_cont_test)\n",
    "print(classification_report(prediction_naive_cont,y_cont_test))"
   ]
  },
  {
   "cell_type": "markdown",
   "id": "e05012fe",
   "metadata": {},
   "source": [
    "Interestingly, even with more data points from news content, the accuracy using Naive Bayes remains around 94%"
   ]
  },
  {
   "cell_type": "code",
   "execution_count": 208,
   "id": "771ce748",
   "metadata": {},
   "outputs": [
    {
     "data": {
      "text/plain": [
       "array([[4424,  334],\n",
       "       [ 166, 4056]], dtype=int64)"
      ]
     },
     "execution_count": 208,
     "metadata": {},
     "output_type": "execute_result"
    }
   ],
   "source": [
    "#Observing the confusion matrix outputs, to see performance\n",
    "confusion_matrix(y_cont_test, prediction_naive_cont)"
   ]
  },
  {
   "cell_type": "code",
   "execution_count": 210,
   "id": "6a85bb60",
   "metadata": {},
   "outputs": [
    {
     "data": {
      "text/plain": [
       "Text(0.5, 0, 'predicted label')"
      ]
     },
     "execution_count": 210,
     "metadata": {},
     "output_type": "execute_result"
    },
    {
     "data": {
      "image/png": "[encoded data removed]",
      "text/plain": [
       "<Figure size 288x288 with 2 Axes>"
      ]
     },
     "metadata": {},
     "output_type": "display_data"
    }
   ],
   "source": [
    "#Visualizing confusion matrix for prediction outputs\n",
    "plt.matshow(confusion_matrix(y_cont_test, prediction_naive_cont), cmap=plt.cm.binary, interpolation='nearest')\n",
    "plt.title('confusion matrix')\n",
    "plt.colorbar()\n",
    "plt.ylabel('expected label')\n",
    "plt.xlabel('predicted label')"
   ]
  },
  {
   "cell_type": "markdown",
   "id": "486fd675",
   "metadata": {},
   "source": [
    "#### 1.5.2.2 Use svc on news content"
   ]
  },
  {
   "cell_type": "code",
   "execution_count": 214,
   "id": "b46fa6aa",
   "metadata": {},
   "outputs": [
    {
     "name": "stdout",
     "output_type": "stream",
     "text": [
      "              precision    recall  f1-score   support\n",
      "\n",
      "        fake       1.00      1.00      1.00      4763\n",
      "        real       0.99      1.00      1.00      4217\n",
      "\n",
      "    accuracy                           1.00      8980\n",
      "   macro avg       1.00      1.00      1.00      8980\n",
      "weighted avg       1.00      1.00      1.00      8980\n",
      "\n"
     ]
    }
   ],
   "source": [
    "#Passing the training data prepared from tfidf scores for headline for SVC\n",
    "model_svc_cont = LinearSVC().fit(x_cont_train, y_cont_train)\n",
    "prediction_svc_cont = model_svc_cont.predict(x_cont_test)\n",
    "print(classification_report(prediction_svc_cont,y_cont_test))"
   ]
  },
  {
   "cell_type": "markdown",
   "id": "b2e48984",
   "metadata": {},
   "source": [
    "We see a very strong performance by the model using SVC with aditional dtaa points from the news article content, at almost 99%+"
   ]
  },
  {
   "cell_type": "code",
   "execution_count": 215,
   "id": "1963f735",
   "metadata": {},
   "outputs": [
    {
     "data": {
      "text/plain": [
       "array([[4740,   18],\n",
       "       [  23, 4199]], dtype=int64)"
      ]
     },
     "execution_count": 215,
     "metadata": {},
     "output_type": "execute_result"
    }
   ],
   "source": [
    "#Observing the confusion matrix outputs, to see performance\n",
    "confusion_matrix(y_cont_test, prediction_svc_cont)"
   ]
  },
  {
   "cell_type": "code",
   "execution_count": 216,
   "id": "abbba453",
   "metadata": {},
   "outputs": [
    {
     "data": {
      "text/plain": [
       "Text(0.5, 0, 'predicted label')"
      ]
     },
     "execution_count": 216,
     "metadata": {},
     "output_type": "execute_result"
    },
    {
     "data": {
      "image/png": "[encoded data removed]",
      "text/plain": [
       "<Figure size 288x288 with 2 Axes>"
      ]
     },
     "metadata": {},
     "output_type": "display_data"
    }
   ],
   "source": [
    "#Visualizing confusion matrix for prediction outputs\n",
    "plt.matshow(confusion_matrix(y_cont_test, prediction_svc_cont), cmap=plt.cm.binary, interpolation='nearest')\n",
    "plt.title('confusion matrix')\n",
    "plt.colorbar()\n",
    "plt.ylabel('expected label')\n",
    "plt.xlabel('predicted label')"
   ]
  },
  {
   "cell_type": "markdown",
   "id": "369b3e2a",
   "metadata": {},
   "source": [
    "### 1.5.3 Tinker parameters: Performing n fold cross validation"
   ]
  },
  {
   "cell_type": "markdown",
   "id": "623bdb05",
   "metadata": {},
   "source": [
    "#### 1.5.3.1 Use cross validation for naive bayes on both kind of news data"
   ]
  },
  {
   "cell_type": "code",
   "execution_count": 219,
   "id": "28273b79",
   "metadata": {},
   "outputs": [
    {
     "name": "stdout",
     "output_type": "stream",
     "text": [
      "Wall time: 2.74 s\n",
      "[0.9373608  0.93415924 0.93708241 0.93108729 0.93568147]\n",
      "0.9350742418919703 0.0022962062643596473\n"
     ]
    }
   ],
   "source": [
    "#With naive bayes and headline\n",
    "%time scores = cross_val_score(MultinomialNB(), x_head_train, y_head_train, cv=5, scoring='accuracy', n_jobs=-1)\n",
    "print(scores)\n",
    "print(scores.mean(), scores.std())"
   ]
  },
  {
   "cell_type": "code",
   "execution_count": 220,
   "id": "67d91795",
   "metadata": {},
   "outputs": [
    {
     "name": "stdout",
     "output_type": "stream",
     "text": [
      "Wall time: 4.56 s\n",
      "[0.94292873 0.93889198 0.94084076 0.94194626 0.94765418]\n",
      "0.9424523830858991 0.0029262804142036023\n"
     ]
    }
   ],
   "source": [
    "#With naive bayes and content\n",
    "%time scores = cross_val_score(MultinomialNB(), x_cont_train, y_cont_train, cv=5, scoring='accuracy', n_jobs=-1)\n",
    "print(scores)\n",
    "print(scores.mean(), scores.std())"
   ]
  },
  {
   "cell_type": "markdown",
   "id": "b8b46d14",
   "metadata": {},
   "source": [
    "Scores after cross validation remain consistently around 93 - 94% for headline data and 94-95% for news content, indicating that there may not be over fitting with little variation in accuracy with change in test/train data"
   ]
  },
  {
   "cell_type": "markdown",
   "id": "a776dd37",
   "metadata": {},
   "source": [
    "#### 1.5.3.2 Use cross validation for svc on both kind of news data"
   ]
  },
  {
   "cell_type": "code",
   "execution_count": 221,
   "id": "743dfed6",
   "metadata": {},
   "outputs": [
    {
     "name": "stdout",
     "output_type": "stream",
     "text": [
      "Wall time: 790 ms\n",
      "[0.94724388 0.9451559  0.94418151 0.94473061 0.94556592]\n",
      "0.9453755650482595 0.0010408447036632084\n"
     ]
    }
   ],
   "source": [
    "#With svc and headline\n",
    "%time scores = cross_val_score(LinearSVC(), x_head_train, y_head_train, cv=5, scoring='accuracy', n_jobs=-1)\n",
    "print(scores)\n",
    "print(scores.mean(), scores.std())"
   ]
  },
  {
   "cell_type": "code",
   "execution_count": 222,
   "id": "549102d1",
   "metadata": {},
   "outputs": [
    {
     "name": "stdout",
     "output_type": "stream",
     "text": [
      "Wall time: 1.99 s\n",
      "[0.99457127 0.99415367 0.99484967 0.9952666  0.99596269]\n",
      "0.9949607803254839 0.0006185197577646521\n"
     ]
    }
   ],
   "source": [
    "#With svc and news content\n",
    "%time scores = cross_val_score(LinearSVC(), x_cont_train, y_cont_train, cv=5, scoring='accuracy', n_jobs=-1)\n",
    "print(scores)\n",
    "print(scores.mean(), scores.std())"
   ]
  },
  {
   "cell_type": "markdown",
   "id": "1c5d338d",
   "metadata": {},
   "source": [
    "Scores after cross validation remain consistently around 94 - 95% for headline data and 99-100% for news content, indicating that there may not be over fitting with little variation in accuracy with change in test/train data"
   ]
  },
  {
   "cell_type": "markdown",
   "id": "8572cc44",
   "metadata": {},
   "source": [
    "### Answer prompts\n",
    "\n",
    "**1. Describe the dataset you chose. Why did you choose it? What features does it include? What year is it from? How was it collected? What should we know about this dataset as we read your writeup? (4pts)**\n",
    "\n",
    "A. The source for this dataset has been cited above with source link. \n",
    "\n",
    "This data has been gathered from real world newspapers. The source for real news was reuters.com a well renowned news publishing organization. While fake news was a collection from largely known unreliable sources which have been fact checked by PolitiFact and Wikipedia. PolitiFact being an organization dedicated to fact checking in the USA.\n",
    "\n",
    "I chose this dataset because I wanted to explore the relationship between fake news and the content within. Fake news datasets are plentifully available, however I chose this one because it collected fake news from multiple sources, so there was a less chance for bias from a particular source to come in. Real news being collected just from Reuters was concerning, but the fact that it is from a reputable source is encouraging.\n",
    "\n",
    "This data contains features such as the news title, the news article itself, subject it belongs to and the date when it was published.\n",
    "\n",
    "All the articles come from the year 2016-2017. As mentioned above, all of the real news is from Reuters, and fake news is flagged by PolitiFact and Wikipedia. In total there are over 12k articles in this dataset.\n",
    "\n",
    "One thing to know about this dataset is that originally the data for real and fake news is separate, and there was pre-processing and random shuffling to do on the data before running it for training and testing.\n",
    "\n",
    "**2. Define a research question. What are you trying to predict? Describe what you're trying to accomplish (it will differ between Supervised and Unsupervised learning). (4pts)**\n",
    "\n",
    "A. The research question is as follows - To verify and classify if any piece of news is real or fake based on its headline. \n",
    "\n",
    "The main idea to accomplish is to fit a model which can effectively work on new unseen data and predict if it should be believed or be cautious about. Fake news has been the story of the decade, specifically with social media blow ups, and the people learning about several political campaigns using this as a weapon. Fake news continuously hurts society and in my opinion is highly unethical. \n",
    "\n",
    "Which is why I am using supervised learning techniques like SVC and Naive Bayes to weed through past data which has been classified as fake/real and better predict how new news needs to be perceived by the public. As part of this process, I am feeding pre-decided classifications for news article to the model, allowing a model to learn to distinguish between real and fake news, and then predicting. This learning method is called supervised learning\n",
    "\n",
    "**3. Why is this algorithm a good way of answering your research question? (2pts)**\n",
    "\n",
    "A. Naive bayes and SVC are powerful algorithms for performing natural language processing applications such as spam filtering, sentiment analysis, misinformation prediction etc. A key reason why this works is due to the number of variables we need to work with in this problem. Each unique word is its own variable, hence Naïve Bayes and SVC work well in such situations, unlike others which may be more prone to overfitting. Additionally, these algorithms work better with categorical data compared to others for classification and are even faster in operation.\n",
    "\n",
    "**4. Using the data you chose and the algorithm you chose, read in your data and run your model. (6pts)**\n",
    "\n",
    "A. Done as per the code above.\n",
    "\n",
    "**5. Tinker with parameters at least 3 times (changing learning rate, changing features, changing k like in KNN, etc). You may tinker with the same kind of parameter 3 times, it doesn't have to be 3 different parameters. (example: you can just tinker with k. k=1, k=3, or k=8) Or you might want to tinker with features and also your k value or whatever is appropriate for your algorithm. (3pts)**\n",
    "\n",
    "A. Based on the codes above, I have used two features. First being the news headline, to identify if that feature is enough to get adequately accurate results on test. Second being the news content, which is more voluminous in data, hence more than enough to get a greater accuracy in predictions, however it severely loses out on time peformance. Lastly, I have also tried a 5-cross validation to see how with different test and training sampls within the dataset, the outputs of the model vary.\n",
    "\n",
    "**6. Report the accuracy of your model. Either through RMSE or another metric. How did accuracy change with your parameter tinkering? (3pts)**\n",
    "\n",
    "A. The accuracy of the model, as reported in the code above can be seen below:\n",
    "    1. First, we use headline data:\n",
    "        a. If we use Naive Bayes, accuracy is ~93-94%, which is respectable given that the headline has less data contents\n",
    "        b. If we use SVC, accuracy is also pretty good at ~94-95%%. \n",
    "    2. If we use news content for training the model:\n",
    "        a. With Naive bayes, accuracy does not improve too much, despite the volume of data. It goes stays a bit constant. Thus, it provides a very slight improvement\n",
    "        b. With SVC however, it switches performance up further and goes up to almost 100%, with only a few cases incorrectly classified.\n",
    "    3. Lastly, the cross validation gives confidence such that there is strong accuracy across the board with multiple train/test samples. Thus, showing lesser chances of overfitting for the model despite the selection of training or testing data\n",
    "\n",
    "**7. Create a visualization demonstrating your findings. Make sure to include a title and axis labels. Describe what's being shown in your visualization. (3pts)**\n",
    "\n",
    "A. There are two kind of visualizations in this workbook, one is before the model is developed:\n",
    "    1. Length of the title and news v/s fake or real news counts. From the visualizations two kind of patterns are visible. Real news is more often seen with shorter titles and even shorter news stories. However fake news seems to have longer sentences for titles and news. A speculation - this could be because to make fake news seem more genuine, the authors compensate by writing extra (purely inferenced)\n",
    "    2. Second we see visualziation of what category of news is present in the dataset. Real news on the left seems to be having two categories news/politics almost equallty divided. Since fake news is from multiple soruces, we see regional news as a subject, but overall even this data set has a similar distribution of news and politics.\n",
    "    3. Lastly, after running the algorithm, I have also plotted a confusion matrix indicating how true positive, true negative, false positive and false negative is distributed. We observe overall, because the accuracies of Naive Bayes and SVC are 95%+, the confusion matrix plot looks very dark for true positive and true negative, and almost white for the false outputs. This is desirable and indicates the model is performing well\n",
    "\n",
    "**8. What challenges did you run into? Do you think it was because of the data, the model, the research question? How would you overcome these challenges? (4pts)**\n",
    "\n",
    "A. One of the biggest challenges I ran into was with the variations in outputs depending on which data I picked, and a simultaneous output of the algorithms. Picking larger data sets in this instance should be more useful since more data means more features and more context for the algorithms to learn if news is fake or not. However, there is a huge computational requirement, which is a tradeoff. There may be potential ways to reduce processing time, which was a challenge to me, but I was unable to address it fully. \n",
    "\n",
    "Now, if we say we want faster processing, it made sense to go ahead with fake news detection just based on the news headline. As it still provides more than enough accuracy to the test data. However, here if we just used headlines, naive bayes gave a 94% accuracy, which is still good, and improves with SVC as well for lager news article data.\n",
    "\n",
    "To overcome these challenges, I would first try to work on the computational issues, by optimizing the code further, writing better programs which do not require multiple runs of this algorithm so this notebook can execute faster. I already tried this to some extent by realizing I needed to remove some repetitive functions and store the final TF_IDF scores in a variable instead of re-running this every time. I could try to convert the data types from dataframe to a numpy array for faster processing, however I chose ease of use in this case and did not correct it for now. Secondly, I would work on the pre-processing of the data further and try out more alternative versions of the dataset, to see if there were certain biases which caused.\n",
    "\n",
    "**9. We learned a little bit about how our models can affect real people in the world. Name 2 potential benefits of your model and 2 potential harms. You can even look at the Wikipedia page on Algorithmic Bias (Links to an external site.) for inspiration. Every model has consequences, what can you think of? If your data is really not amenable to this question, simply write about any other example we covered in class, such as the Boston housing dataset or hate speech detectors. (6pts)**\n",
    "A. Machine learning models are daily impacting real world. Much like them all, I expect models like the fake news prediction to have significant impacts on society. \n",
    "Some potential benefits:\n",
    "1.\tInforms people, makes them more vigilant about questioning the data they consume rather than accept blind truth. Thus, allowing them to make better decisions based on the news they consume\n",
    "2.\tCan help if any entity is trying to destabilize society by swaying opinions, throwing light at notorious fake news spreaders \n",
    "3.\tThis model can also help a lot of organizations to filter unwanted content, to keep users more engaged to new applications or social media by showing them genuine content instead of distracting garbage content\n",
    "Some harms:\n",
    "1.\tThe model can only be as good as the data. I have accepted the data as it is and claimed that Reuters is the most reliable source and thus, I am rejecting any other style of writing and claiming them to be fake. This can create a dangerous precedence of censorship and also introduces lots of bias from one source\n",
    "2.\tPrediction errors, although from this model are less, can still occur. Thus, it cannot be fully trusted and needs to be accepted with a grain of salt. Else it can potentially flag false positive/false negatives which will give a false sense of security to the reader\n",
    "Some dangerous consequences as a result of this model can be:\n",
    "1.\tOver-simplification and generalization of news sources. Because the model is biased to claim Reuters style news writing to be real, it might claim other genuine one’s fake. Thus introducing a weight power dynamic where everything favors Reuters in the future. Similar can be said about several other machine learning problems like Boston data, where little consideration on why house prices were associate with such a history was taken. The numbers may not lie, but it is actually the data you use which forces the numbers to lie. It can increase the divide between parties, preventing free speech, open competition which pushes people to innovate.\n",
    "2.\tThis model can be used by notorious users for immoral uses, where they can manipulate and systematically create echo chambers, thus just reinforcing people’s ignorant opinions further. This can be dangerous and be used as a political weapon for several use cases. (A recent example being the 2016 US elections, and more recently the war in Ukraine)\n",
    "\n",
    "**10. Name one research question you might ask next for future work (don't worry, you don't have to do it!) Why is it important? (2pts)**\n",
    "\n",
    "A. For future work, I would like to explore this line of thinking to a project more relevant to real world scenarios. I'd like to scrape data from the most curent events, and see if I can predict on real/near-real time if the news is real or fake. One example being identifying if news on the current war in Ukraine is real or fake propoganda from parties.\n",
    "I would also like to operationalize this as a tool for people to verify such information quickly, via tweets if possible since that is where so much audience lies. It is important to let people get unbiased and real information so they can choose for themselves who they want to support and be with, otherwise we are heading to a damgerous time where people can be manipulated for unwanted outcomes\n"
   ]
  }
 ],
 "metadata": {
  "kernelspec": {
   "display_name": "Python 3 (ipykernel)",
   "language": "python",
   "name": "python3"
  },
  "language_info": {
   "codemirror_mode": {
    "name": "ipython",
    "version": 3
   },
   "file_extension": ".py",
   "mimetype": "text/x-python",
   "name": "python",
   "nbconvert_exporter": "python",
   "pygments_lexer": "ipython3",
   "version": "3.9.7"
  }
 },
 "nbformat": 4,
 "nbformat_minor": 5
}
